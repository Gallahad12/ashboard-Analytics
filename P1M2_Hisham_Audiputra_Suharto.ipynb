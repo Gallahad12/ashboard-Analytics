{
 "cells": [
  {
   "cell_type": "markdown",
   "id": "090f80c9",
   "metadata": {},
   "source": [
    "# 1. Perkenalan"
   ]
  },
  {
   "cell_type": "markdown",
   "id": "9b4ff08a",
   "metadata": {},
   "source": [
    "Graded Challenge 5\n",
    "\n",
    "Nama  : Hisham Audiputra Suharto\n",
    "Batch : CODA-RMT-006\n",
    "\n",
    "Program ini dibuat untuk melakukan analysisa Penjualan automobile.\n",
    "\n",
    "Link Tableu : https://public.tableau.com/views/Milestone2_17454983843970/Story1?:language=en-US&publish=yes&:sid=&:redirect=auth&:display_count=n&:origin=viz_share_link\n",
    "DataSource : https://www.kaggle.com/datasets/ddosad/auto-sales-data/data"
   ]
  },
  {
   "cell_type": "markdown",
   "id": "9f7e2da6",
   "metadata": {},
   "source": [
    "# 2. Import Libraries"
   ]
  },
  {
   "cell_type": "code",
   "execution_count": 74,
   "id": "57dab8b6",
   "metadata": {},
   "outputs": [],
   "source": [
    "import pandas as pd\n",
    "import matplotlib.pyplot as plt\n",
    "import plotly.express as px\n",
    "from scipy import stats"
   ]
  },
  {
   "cell_type": "markdown",
   "id": "a3b0dd2d",
   "metadata": {},
   "source": [
    "# 3. Indetifikasi Masalah"
   ]
  },
  {
   "cell_type": "markdown",
   "id": "9c181529",
   "metadata": {},
   "source": [
    "## 3.1 Latar Belakang"
   ]
  },
  {
   "cell_type": "markdown",
   "id": "f267de4a",
   "metadata": {},
   "source": [
    "Dataset penjualan dari sebuah perusahaan automobile"
   ]
  },
  {
   "cell_type": "markdown",
   "id": "035341f9",
   "metadata": {},
   "source": [
    "## 3.2 Tujuan"
   ]
  },
  {
   "cell_type": "markdown",
   "id": "aa03ed77",
   "metadata": {},
   "source": [
    "Mengetahui total penjualan berdasarkan waktu, produk, dan wilayah\n",
    "Mengidentifikasi pelanggan yang aktif dan tidak aktif\n",
    "Menilai pengaruh harga terhadap volume penjualan dan pendapatan total\n",
    "Menganalisis hubungan antara jumlah yang dipesan dengan harga, untuk memahami sensitivitas harga\n",
    "Mengidentifikasi kategori produk yang paling diminati dan paling sedikit dibeli\n",
    "Mengidentifikasi negara dengan penjualan tertinggi dan terendah"
   ]
  },
  {
   "cell_type": "markdown",
   "id": "951ba118",
   "metadata": {},
   "source": [
    "## 3.3 Konteks Business"
   ]
  },
  {
   "cell_type": "markdown",
   "id": "00859b90",
   "metadata": {},
   "source": [
    "PT Automobile Adalah perusahaan baru yang ingin go international mereka ingin mengembang kan usaha ke wilayah baru, mereka ingin coba mereview produk apa dan negara apa yang mereka ingin coba dulu untuk perluasan mereka"
   ]
  },
  {
   "cell_type": "markdown",
   "id": "d91b162e",
   "metadata": {},
   "source": [
    "## 3.4 Defining Problem Statement"
   ]
  },
  {
   "cell_type": "markdown",
   "id": "cab1e14e",
   "metadata": {},
   "source": [
    "Specific:\n",
    "Menentukan produk kendaraan dan negara potensial terbaik untuk ekspansi internasional melalui analisis data penjualan dan perilaku pelanggan saat ini.\n",
    "\n",
    "Measurable:\n",
    "Mengidentifikasi produk dengan penjualan tertinggi, negara dengan performa terbaik dan terendah, pelanggan paling aktif, serta pola pembelian.\n",
    "\n",
    "Achievable:\n",
    "Melakukan Exploratory Data Analysis (EDA), analisis statistik deskriptif dan inferensial menggunakan data penjualan, data pelanggan, serta atribut produk.\n",
    "\n",
    "Relevant:\n",
    "Menentukan produk dan negara prioritas untuk ekspansi akan meminimalisir risiko dan mengarahkan strategi pemasaran serta penjualan ke segmen yang tepat, meningkatkan peluang keberhasilan penetrasi pasar internasional.\n",
    "\n",
    "Time-Bound:\n",
    "hasilnya digunakan sebagai dasar pengambilan keputusan strategi ekspansi pada kuartal berikutnya."
   ]
  },
  {
   "cell_type": "markdown",
   "id": "73c7348b",
   "metadata": {},
   "source": [
    "## 3.5 Key Queestion"
   ]
  },
  {
   "cell_type": "markdown",
   "id": "631e4dfa",
   "metadata": {},
   "source": [
    "1. Siapa saja pelanggan aktif dan tidak aktif? EDA (pie chart)\n",
    "2. Tunjukan Distibusi total pembelian tiap negara? (visual : Map)\n",
    "3. Produk Kendaraan apa yang paling sering di beli? (bar chart)\n",
    "4. Customer/Perusahaan apa yang memiliki orderan terbesar yang tidak di cancel? bar chart (top 5)\n",
    "5. Bagaimana Pebedaan Rata - Rata Penjualan dari vintage dan classic? T Test Independent (bar chart) (mtrx : agg rata2 penjualan) \\\n",
    "6. Bagaimana hubungan antara harga dan jumlah pesanan? DESKRIPTIF (Scatter plot)"
   ]
  },
  {
   "cell_type": "markdown",
   "id": "934bcbd6",
   "metadata": {},
   "source": [
    "# 4. Data Loading"
   ]
  },
  {
   "cell_type": "code",
   "execution_count": 75,
   "id": "4e7ec390",
   "metadata": {},
   "outputs": [],
   "source": [
    "Raw_Data = pd.read_csv('Auto Sales data.csv')"
   ]
  },
  {
   "cell_type": "code",
   "execution_count": 76,
   "id": "f60712bc",
   "metadata": {},
   "outputs": [
    {
     "data": {
      "text/html": [
       "<div>\n",
       "<style scoped>\n",
       "    .dataframe tbody tr th:only-of-type {\n",
       "        vertical-align: middle;\n",
       "    }\n",
       "\n",
       "    .dataframe tbody tr th {\n",
       "        vertical-align: top;\n",
       "    }\n",
       "\n",
       "    .dataframe thead th {\n",
       "        text-align: right;\n",
       "    }\n",
       "</style>\n",
       "<table border=\"1\" class=\"dataframe\">\n",
       "  <thead>\n",
       "    <tr style=\"text-align: right;\">\n",
       "      <th></th>\n",
       "      <th>ORDERNUMBER</th>\n",
       "      <th>QUANTITYORDERED</th>\n",
       "      <th>PRICEEACH</th>\n",
       "      <th>ORDERLINENUMBER</th>\n",
       "      <th>SALES</th>\n",
       "      <th>ORDERDATE</th>\n",
       "      <th>DAYS_SINCE_LASTORDER</th>\n",
       "      <th>STATUS</th>\n",
       "      <th>PRODUCTLINE</th>\n",
       "      <th>MSRP</th>\n",
       "      <th>PRODUCTCODE</th>\n",
       "      <th>CUSTOMERNAME</th>\n",
       "      <th>PHONE</th>\n",
       "      <th>ADDRESSLINE1</th>\n",
       "      <th>CITY</th>\n",
       "      <th>POSTALCODE</th>\n",
       "      <th>COUNTRY</th>\n",
       "      <th>CONTACTLASTNAME</th>\n",
       "      <th>CONTACTFIRSTNAME</th>\n",
       "      <th>DEALSIZE</th>\n",
       "    </tr>\n",
       "  </thead>\n",
       "  <tbody>\n",
       "    <tr>\n",
       "      <th>0</th>\n",
       "      <td>10107</td>\n",
       "      <td>30</td>\n",
       "      <td>95.70</td>\n",
       "      <td>2</td>\n",
       "      <td>2871.00</td>\n",
       "      <td>24/02/2018</td>\n",
       "      <td>828</td>\n",
       "      <td>Shipped</td>\n",
       "      <td>Motorcycles</td>\n",
       "      <td>95</td>\n",
       "      <td>S10_1678</td>\n",
       "      <td>Land of Toys Inc.</td>\n",
       "      <td>2125557818</td>\n",
       "      <td>897 Long Airport Avenue</td>\n",
       "      <td>NYC</td>\n",
       "      <td>10022</td>\n",
       "      <td>USA</td>\n",
       "      <td>Yu</td>\n",
       "      <td>Kwai</td>\n",
       "      <td>Small</td>\n",
       "    </tr>\n",
       "    <tr>\n",
       "      <th>1</th>\n",
       "      <td>10121</td>\n",
       "      <td>34</td>\n",
       "      <td>81.35</td>\n",
       "      <td>5</td>\n",
       "      <td>2765.90</td>\n",
       "      <td>07/05/2018</td>\n",
       "      <td>757</td>\n",
       "      <td>Shipped</td>\n",
       "      <td>Motorcycles</td>\n",
       "      <td>95</td>\n",
       "      <td>S10_1678</td>\n",
       "      <td>Reims Collectables</td>\n",
       "      <td>26.47.1555</td>\n",
       "      <td>59 rue de l'Abbaye</td>\n",
       "      <td>Reims</td>\n",
       "      <td>51100</td>\n",
       "      <td>France</td>\n",
       "      <td>Henriot</td>\n",
       "      <td>Paul</td>\n",
       "      <td>Small</td>\n",
       "    </tr>\n",
       "    <tr>\n",
       "      <th>2</th>\n",
       "      <td>10134</td>\n",
       "      <td>41</td>\n",
       "      <td>94.74</td>\n",
       "      <td>2</td>\n",
       "      <td>3884.34</td>\n",
       "      <td>01/07/2018</td>\n",
       "      <td>703</td>\n",
       "      <td>Shipped</td>\n",
       "      <td>Motorcycles</td>\n",
       "      <td>95</td>\n",
       "      <td>S10_1678</td>\n",
       "      <td>Lyon Souveniers</td>\n",
       "      <td>+33 1 46 62 7555</td>\n",
       "      <td>27 rue du Colonel Pierre Avia</td>\n",
       "      <td>Paris</td>\n",
       "      <td>75508</td>\n",
       "      <td>France</td>\n",
       "      <td>Da Cunha</td>\n",
       "      <td>Daniel</td>\n",
       "      <td>Medium</td>\n",
       "    </tr>\n",
       "    <tr>\n",
       "      <th>3</th>\n",
       "      <td>10145</td>\n",
       "      <td>45</td>\n",
       "      <td>83.26</td>\n",
       "      <td>6</td>\n",
       "      <td>3746.70</td>\n",
       "      <td>25/08/2018</td>\n",
       "      <td>649</td>\n",
       "      <td>Shipped</td>\n",
       "      <td>Motorcycles</td>\n",
       "      <td>95</td>\n",
       "      <td>S10_1678</td>\n",
       "      <td>Toys4GrownUps.com</td>\n",
       "      <td>6265557265</td>\n",
       "      <td>78934 Hillside Dr.</td>\n",
       "      <td>Pasadena</td>\n",
       "      <td>90003</td>\n",
       "      <td>USA</td>\n",
       "      <td>Young</td>\n",
       "      <td>Julie</td>\n",
       "      <td>Medium</td>\n",
       "    </tr>\n",
       "    <tr>\n",
       "      <th>4</th>\n",
       "      <td>10168</td>\n",
       "      <td>36</td>\n",
       "      <td>96.66</td>\n",
       "      <td>1</td>\n",
       "      <td>3479.76</td>\n",
       "      <td>28/10/2018</td>\n",
       "      <td>586</td>\n",
       "      <td>Shipped</td>\n",
       "      <td>Motorcycles</td>\n",
       "      <td>95</td>\n",
       "      <td>S10_1678</td>\n",
       "      <td>Technics Stores Inc.</td>\n",
       "      <td>6505556809</td>\n",
       "      <td>9408 Furth Circle</td>\n",
       "      <td>Burlingame</td>\n",
       "      <td>94217</td>\n",
       "      <td>USA</td>\n",
       "      <td>Hirano</td>\n",
       "      <td>Juri</td>\n",
       "      <td>Medium</td>\n",
       "    </tr>\n",
       "  </tbody>\n",
       "</table>\n",
       "</div>"
      ],
      "text/plain": [
       "   ORDERNUMBER  QUANTITYORDERED  PRICEEACH  ORDERLINENUMBER    SALES  \\\n",
       "0        10107               30      95.70                2  2871.00   \n",
       "1        10121               34      81.35                5  2765.90   \n",
       "2        10134               41      94.74                2  3884.34   \n",
       "3        10145               45      83.26                6  3746.70   \n",
       "4        10168               36      96.66                1  3479.76   \n",
       "\n",
       "    ORDERDATE  DAYS_SINCE_LASTORDER   STATUS  PRODUCTLINE  MSRP PRODUCTCODE  \\\n",
       "0  24/02/2018                   828  Shipped  Motorcycles    95    S10_1678   \n",
       "1  07/05/2018                   757  Shipped  Motorcycles    95    S10_1678   \n",
       "2  01/07/2018                   703  Shipped  Motorcycles    95    S10_1678   \n",
       "3  25/08/2018                   649  Shipped  Motorcycles    95    S10_1678   \n",
       "4  28/10/2018                   586  Shipped  Motorcycles    95    S10_1678   \n",
       "\n",
       "           CUSTOMERNAME             PHONE                   ADDRESSLINE1  \\\n",
       "0     Land of Toys Inc.        2125557818        897 Long Airport Avenue   \n",
       "1    Reims Collectables        26.47.1555             59 rue de l'Abbaye   \n",
       "2       Lyon Souveniers  +33 1 46 62 7555  27 rue du Colonel Pierre Avia   \n",
       "3     Toys4GrownUps.com        6265557265             78934 Hillside Dr.   \n",
       "4  Technics Stores Inc.        6505556809              9408 Furth Circle   \n",
       "\n",
       "         CITY POSTALCODE COUNTRY CONTACTLASTNAME CONTACTFIRSTNAME DEALSIZE  \n",
       "0         NYC      10022     USA              Yu             Kwai    Small  \n",
       "1       Reims      51100  France         Henriot             Paul    Small  \n",
       "2       Paris      75508  France        Da Cunha           Daniel   Medium  \n",
       "3    Pasadena      90003     USA           Young            Julie   Medium  \n",
       "4  Burlingame      94217     USA          Hirano             Juri   Medium  "
      ]
     },
     "execution_count": 76,
     "metadata": {},
     "output_type": "execute_result"
    }
   ],
   "source": [
    "Raw_Data.head()"
   ]
  },
  {
   "cell_type": "markdown",
   "id": "55009d3c",
   "metadata": {},
   "source": [
    "# 5. Data Cleaning"
   ]
  },
  {
   "cell_type": "code",
   "execution_count": 77,
   "id": "1e93cac9",
   "metadata": {},
   "outputs": [
    {
     "name": "stderr",
     "output_type": "stream",
     "text": [
      "C:\\Users\\audip\\AppData\\Local\\Temp\\ipykernel_38896\\1476739311.py:1: UserWarning:\n",
      "\n",
      "Parsing dates in %d/%m/%Y format when dayfirst=False (the default) was specified. Pass `dayfirst=True` or specify a format to silence this warning.\n",
      "\n"
     ]
    }
   ],
   "source": [
    "Raw_Data['ORDERDATE'] = pd.to_datetime(Raw_Data['ORDERDATE'])"
   ]
  },
  {
   "cell_type": "code",
   "execution_count": 78,
   "id": "f48da092",
   "metadata": {},
   "outputs": [
    {
     "name": "stdout",
     "output_type": "stream",
     "text": [
      "<class 'pandas.core.frame.DataFrame'>\n",
      "RangeIndex: 2747 entries, 0 to 2746\n",
      "Data columns (total 20 columns):\n",
      " #   Column                Non-Null Count  Dtype         \n",
      "---  ------                --------------  -----         \n",
      " 0   ORDERNUMBER           2747 non-null   int64         \n",
      " 1   QUANTITYORDERED       2747 non-null   int64         \n",
      " 2   PRICEEACH             2747 non-null   float64       \n",
      " 3   ORDERLINENUMBER       2747 non-null   int64         \n",
      " 4   SALES                 2747 non-null   float64       \n",
      " 5   ORDERDATE             2747 non-null   datetime64[ns]\n",
      " 6   DAYS_SINCE_LASTORDER  2747 non-null   int64         \n",
      " 7   STATUS                2747 non-null   object        \n",
      " 8   PRODUCTLINE           2747 non-null   object        \n",
      " 9   MSRP                  2747 non-null   int64         \n",
      " 10  PRODUCTCODE           2747 non-null   object        \n",
      " 11  CUSTOMERNAME          2747 non-null   object        \n",
      " 12  PHONE                 2747 non-null   object        \n",
      " 13  ADDRESSLINE1          2747 non-null   object        \n",
      " 14  CITY                  2747 non-null   object        \n",
      " 15  POSTALCODE            2747 non-null   object        \n",
      " 16  COUNTRY               2747 non-null   object        \n",
      " 17  CONTACTLASTNAME       2747 non-null   object        \n",
      " 18  CONTACTFIRSTNAME      2747 non-null   object        \n",
      " 19  DEALSIZE              2747 non-null   object        \n",
      "dtypes: datetime64[ns](1), float64(2), int64(5), object(12)\n",
      "memory usage: 429.3+ KB\n"
     ]
    }
   ],
   "source": [
    "Raw_Data.info()"
   ]
  },
  {
   "cell_type": "markdown",
   "id": "ae8b613c",
   "metadata": {},
   "source": [
    "# 6. Analisis dan perhitungan"
   ]
  },
  {
   "cell_type": "code",
   "execution_count": 79,
   "id": "bf96cf90",
   "metadata": {},
   "outputs": [
    {
     "data": {
      "image/png": "[encoded data removed]",
      "text/plain": [
       "<Figure size 640x480 with 1 Axes>"
      ]
     },
     "metadata": {},
     "output_type": "display_data"
    }
   ],
   "source": [
    "status_counts = Raw_Data['DAYS_SINCE_LASTORDER'].apply(lambda x: 'Active' if x <= 365 else 'Non-Active').value_counts()\n",
    "plt.pie(\n",
    "    status_counts,\n",
    "    labels=status_counts.index,\n",
    "    autopct='%1.1f%%',\n",
    "    colors=['#66bb6a', '#ef5350'],  # green for Active, red for Non-Active\n",
    "    startangle=90\n",
    ")\n",
    "plt.title('Customer Activity Status')\n",
    "plt.axis('equal')\n",
    "plt.show()"
   ]
  },
  {
   "cell_type": "markdown",
   "id": "8d301107",
   "metadata": {},
   "source": [
    "Bisa Di lihat dari Pie Chart Di atas Bahwa Hampir Semua User tidak Active 96.8%"
   ]
  },
  {
   "cell_type": "code",
   "execution_count": 80,
   "id": "059ed85b",
   "metadata": {},
   "outputs": [
    {
     "data": {
      "application/vnd.plotly.v1+json": {
       "config": {
        "plotlyServerURL": "https://plot.ly"
       },
       "data": [
        {
         "coloraxis": "coloraxis",
         "customdata": [
          [
           6246,
           "Australia"
          ],
          [
           1974,
           "Austria"
          ],
          [
           1074,
           "Belgium"
          ],
          [
           2293,
           "Canada"
          ],
          [
           2197,
           "Denmark"
          ],
          [
           3192,
           "Finland"
          ],
          [
           11090,
           "France"
          ],
          [
           2148,
           "Germany"
          ],
          [
           490,
           "Ireland"
          ],
          [
           3773,
           "Italy"
          ],
          [
           1842,
           "Japan"
          ],
          [
           2842,
           "Norway"
          ],
          [
           961,
           "Philippines"
          ],
          [
           2760,
           "Singapore"
          ],
          [
           12429,
           "Spain"
          ],
          [
           2006,
           "Sweden"
          ],
          [
           1078,
           "Switzerland"
          ],
          [
           5013,
           "UK"
          ],
          [
           33020,
           "USA"
          ]
         ],
         "geo": "geo",
         "hovertemplate": "<b>%{hovertext}</b><br><br>QUANTITYORDERED=%{z}<extra></extra>",
         "hovertext": [
          "Australia",
          "Austria",
          "Belgium",
          "Canada",
          "Denmark",
          "Finland",
          "France",
          "Germany",
          "Ireland",
          "Italy",
          "Japan",
          "Norway",
          "Philippines",
          "Singapore",
          "Spain",
          "Sweden",
          "Switzerland",
          "UK",
          "USA"
         ],
         "locationmode": "country names",
         "locations": [
          "Australia",
          "Austria",
          "Belgium",
          "Canada",
          "Denmark",
          "Finland",
          "France",
          "Germany",
          "Ireland",
          "Italy",
          "Japan",
          "Norway",
          "Philippines",
          "Singapore",
          "Spain",
          "Sweden",
          "Switzerland",
          "UK",
          "USA"
         ],
         "name": "",
         "type": "choropleth",
         "z": [
          6246,
          1974,
          1074,
          2293,
          2197,
          3192,
          11090,
          2148,
          490,
          3773,
          1842,
          2842,
          961,
          2760,
          12429,
          2006,
          1078,
          5013,
          33020
         ]
        }
       ],
       "layout": {
        "coloraxis": {
         "colorbar": {
          "title": {
           "text": "QUANTITYORDERED"
          }
         },
         "colorscale": [
          [
           0,
           "rgb(255,255,217)"
          ],
          [
           0.125,
           "rgb(237,248,177)"
          ],
          [
           0.25,
           "rgb(199,233,180)"
          ],
          [
           0.375,
           "rgb(127,205,187)"
          ],
          [
           0.5,
           "rgb(65,182,196)"
          ],
          [
           0.625,
           "rgb(29,145,192)"
          ],
          [
           0.75,
           "rgb(34,94,168)"
          ],
          [
           0.875,
           "rgb(37,52,148)"
          ],
          [
           1,
           "rgb(8,29,88)"
          ]
         ]
        },
        "geo": {
         "center": {},
         "domain": {
          "x": [
           0,
           1
          ],
          "y": [
           0,
           1
          ]
         }
        },
        "legend": {
         "tracegroupgap": 0
        },
        "template": {
         "data": {
          "bar": [
           {
            "error_x": {
             "color": "#2a3f5f"
            },
            "error_y": {
             "color": "#2a3f5f"
            },
            "marker": {
             "line": {
              "color": "#E5ECF6",
              "width": 0.5
             },
             "pattern": {
              "fillmode": "overlay",
              "size": 10,
              "solidity": 0.2
             }
            },
            "type": "bar"
           }
          ],
          "barpolar": [
           {
            "marker": {
             "line": {
              "color": "#E5ECF6",
              "width": 0.5
             },
             "pattern": {
              "fillmode": "overlay",
              "size": 10,
              "solidity": 0.2
             }
            },
            "type": "barpolar"
           }
          ],
          "carpet": [
           {
            "aaxis": {
             "endlinecolor": "#2a3f5f",
             "gridcolor": "white",
             "linecolor": "white",
             "minorgridcolor": "white",
             "startlinecolor": "#2a3f5f"
            },
            "baxis": {
             "endlinecolor": "#2a3f5f",
             "gridcolor": "white",
             "linecolor": "white",
             "minorgridcolor": "white",
             "startlinecolor": "#2a3f5f"
            },
            "type": "carpet"
           }
          ],
          "choropleth": [
           {
            "colorbar": {
             "outlinewidth": 0,
             "ticks": ""
            },
            "type": "choropleth"
           }
          ],
          "contour": [
           {
            "colorbar": {
             "outlinewidth": 0,
             "ticks": ""
            },
            "colorscale": [
             [
              0,
              "#0d0887"
             ],
             [
              0.1111111111111111,
              "#46039f"
             ],
             [
              0.2222222222222222,
              "#7201a8"
             ],
             [
              0.3333333333333333,
              "#9c179e"
             ],
             [
              0.4444444444444444,
              "#bd3786"
             ],
             [
              0.5555555555555556,
              "#d8576b"
             ],
             [
              0.6666666666666666,
              "#ed7953"
             ],
             [
              0.7777777777777778,
              "#fb9f3a"
             ],
             [
              0.8888888888888888,
              "#fdca26"
             ],
             [
              1,
              "#f0f921"
             ]
            ],
            "type": "contour"
           }
          ],
          "contourcarpet": [
           {
            "colorbar": {
             "outlinewidth": 0,
             "ticks": ""
            },
            "type": "contourcarpet"
           }
          ],
          "heatmap": [
           {
            "colorbar": {
             "outlinewidth": 0,
             "ticks": ""
            },
            "colorscale": [
             [
              0,
              "#0d0887"
             ],
             [
              0.1111111111111111,
              "#46039f"
             ],
             [
              0.2222222222222222,
              "#7201a8"
             ],
             [
              0.3333333333333333,
              "#9c179e"
             ],
             [
              0.4444444444444444,
              "#bd3786"
             ],
             [
              0.5555555555555556,
              "#d8576b"
             ],
             [
              0.6666666666666666,
              "#ed7953"
             ],
             [
              0.7777777777777778,
              "#fb9f3a"
             ],
             [
              0.8888888888888888,
              "#fdca26"
             ],
             [
              1,
              "#f0f921"
             ]
            ],
            "type": "heatmap"
           }
          ],
          "heatmapgl": [
           {
            "colorbar": {
             "outlinewidth": 0,
             "ticks": ""
            },
            "colorscale": [
             [
              0,
              "#0d0887"
             ],
             [
              0.1111111111111111,
              "#46039f"
             ],
             [
              0.2222222222222222,
              "#7201a8"
             ],
             [
              0.3333333333333333,
              "#9c179e"
             ],
             [
              0.4444444444444444,
              "#bd3786"
             ],
             [
              0.5555555555555556,
              "#d8576b"
             ],
             [
              0.6666666666666666,
              "#ed7953"
             ],
             [
              0.7777777777777778,
              "#fb9f3a"
             ],
             [
              0.8888888888888888,
              "#fdca26"
             ],
             [
              1,
              "#f0f921"
             ]
            ],
            "type": "heatmapgl"
           }
          ],
          "histogram": [
           {
            "marker": {
             "pattern": {
              "fillmode": "overlay",
              "size": 10,
              "solidity": 0.2
             }
            },
            "type": "histogram"
           }
          ],
          "histogram2d": [
           {
            "colorbar": {
             "outlinewidth": 0,
             "ticks": ""
            },
            "colorscale": [
             [
              0,
              "#0d0887"
             ],
             [
              0.1111111111111111,
              "#46039f"
             ],
             [
              0.2222222222222222,
              "#7201a8"
             ],
             [
              0.3333333333333333,
              "#9c179e"
             ],
             [
              0.4444444444444444,
              "#bd3786"
             ],
             [
              0.5555555555555556,
              "#d8576b"
             ],
             [
              0.6666666666666666,
              "#ed7953"
             ],
             [
              0.7777777777777778,
              "#fb9f3a"
             ],
             [
              0.8888888888888888,
              "#fdca26"
             ],
             [
              1,
              "#f0f921"
             ]
            ],
            "type": "histogram2d"
           }
          ],
          "histogram2dcontour": [
           {
            "colorbar": {
             "outlinewidth": 0,
             "ticks": ""
            },
            "colorscale": [
             [
              0,
              "#0d0887"
             ],
             [
              0.1111111111111111,
              "#46039f"
             ],
             [
              0.2222222222222222,
              "#7201a8"
             ],
             [
              0.3333333333333333,
              "#9c179e"
             ],
             [
              0.4444444444444444,
              "#bd3786"
             ],
             [
              0.5555555555555556,
              "#d8576b"
             ],
             [
              0.6666666666666666,
              "#ed7953"
             ],
             [
              0.7777777777777778,
              "#fb9f3a"
             ],
             [
              0.8888888888888888,
              "#fdca26"
             ],
             [
              1,
              "#f0f921"
             ]
            ],
            "type": "histogram2dcontour"
           }
          ],
          "mesh3d": [
           {
            "colorbar": {
             "outlinewidth": 0,
             "ticks": ""
            },
            "type": "mesh3d"
           }
          ],
          "parcoords": [
           {
            "line": {
             "colorbar": {
              "outlinewidth": 0,
              "ticks": ""
             }
            },
            "type": "parcoords"
           }
          ],
          "pie": [
           {
            "automargin": true,
            "type": "pie"
           }
          ],
          "scatter": [
           {
            "fillpattern": {
             "fillmode": "overlay",
             "size": 10,
             "solidity": 0.2
            },
            "type": "scatter"
           }
          ],
          "scatter3d": [
           {
            "line": {
             "colorbar": {
              "outlinewidth": 0,
              "ticks": ""
             }
            },
            "marker": {
             "colorbar": {
              "outlinewidth": 0,
              "ticks": ""
             }
            },
            "type": "scatter3d"
           }
          ],
          "scattercarpet": [
           {
            "marker": {
             "colorbar": {
              "outlinewidth": 0,
              "ticks": ""
             }
            },
            "type": "scattercarpet"
           }
          ],
          "scattergeo": [
           {
            "marker": {
             "colorbar": {
              "outlinewidth": 0,
              "ticks": ""
             }
            },
            "type": "scattergeo"
           }
          ],
          "scattergl": [
           {
            "marker": {
             "colorbar": {
              "outlinewidth": 0,
              "ticks": ""
             }
            },
            "type": "scattergl"
           }
          ],
          "scattermapbox": [
           {
            "marker": {
             "colorbar": {
              "outlinewidth": 0,
              "ticks": ""
             }
            },
            "type": "scattermapbox"
           }
          ],
          "scatterpolar": [
           {
            "marker": {
             "colorbar": {
              "outlinewidth": 0,
              "ticks": ""
             }
            },
            "type": "scatterpolar"
           }
          ],
          "scatterpolargl": [
           {
            "marker": {
             "colorbar": {
              "outlinewidth": 0,
              "ticks": ""
             }
            },
            "type": "scatterpolargl"
           }
          ],
          "scatterternary": [
           {
            "marker": {
             "colorbar": {
              "outlinewidth": 0,
              "ticks": ""
             }
            },
            "type": "scatterternary"
           }
          ],
          "surface": [
           {
            "colorbar": {
             "outlinewidth": 0,
             "ticks": ""
            },
            "colorscale": [
             [
              0,
              "#0d0887"
             ],
             [
              0.1111111111111111,
              "#46039f"
             ],
             [
              0.2222222222222222,
              "#7201a8"
             ],
             [
              0.3333333333333333,
              "#9c179e"
             ],
             [
              0.4444444444444444,
              "#bd3786"
             ],
             [
              0.5555555555555556,
              "#d8576b"
             ],
             [
              0.6666666666666666,
              "#ed7953"
             ],
             [
              0.7777777777777778,
              "#fb9f3a"
             ],
             [
              0.8888888888888888,
              "#fdca26"
             ],
             [
              1,
              "#f0f921"
             ]
            ],
            "type": "surface"
           }
          ],
          "table": [
           {
            "cells": {
             "fill": {
              "color": "#EBF0F8"
             },
             "line": {
              "color": "white"
             }
            },
            "header": {
             "fill": {
              "color": "#C8D4E3"
             },
             "line": {
              "color": "white"
             }
            },
            "type": "table"
           }
          ]
         },
         "layout": {
          "annotationdefaults": {
           "arrowcolor": "#2a3f5f",
           "arrowhead": 0,
           "arrowwidth": 1
          },
          "autotypenumbers": "strict",
          "coloraxis": {
           "colorbar": {
            "outlinewidth": 0,
            "ticks": ""
           }
          },
          "colorscale": {
           "diverging": [
            [
             0,
             "#8e0152"
            ],
            [
             0.1,
             "#c51b7d"
            ],
            [
             0.2,
             "#de77ae"
            ],
            [
             0.3,
             "#f1b6da"
            ],
            [
             0.4,
             "#fde0ef"
            ],
            [
             0.5,
             "#f7f7f7"
            ],
            [
             0.6,
             "#e6f5d0"
            ],
            [
             0.7,
             "#b8e186"
            ],
            [
             0.8,
             "#7fbc41"
            ],
            [
             0.9,
             "#4d9221"
            ],
            [
             1,
             "#276419"
            ]
           ],
           "sequential": [
            [
             0,
             "#0d0887"
            ],
            [
             0.1111111111111111,
             "#46039f"
            ],
            [
             0.2222222222222222,
             "#7201a8"
            ],
            [
             0.3333333333333333,
             "#9c179e"
            ],
            [
             0.4444444444444444,
             "#bd3786"
            ],
            [
             0.5555555555555556,
             "#d8576b"
            ],
            [
             0.6666666666666666,
             "#ed7953"
            ],
            [
             0.7777777777777778,
             "#fb9f3a"
            ],
            [
             0.8888888888888888,
             "#fdca26"
            ],
            [
             1,
             "#f0f921"
            ]
           ],
           "sequentialminus": [
            [
             0,
             "#0d0887"
            ],
            [
             0.1111111111111111,
             "#46039f"
            ],
            [
             0.2222222222222222,
             "#7201a8"
            ],
            [
             0.3333333333333333,
             "#9c179e"
            ],
            [
             0.4444444444444444,
             "#bd3786"
            ],
            [
             0.5555555555555556,
             "#d8576b"
            ],
            [
             0.6666666666666666,
             "#ed7953"
            ],
            [
             0.7777777777777778,
             "#fb9f3a"
            ],
            [
             0.8888888888888888,
             "#fdca26"
            ],
            [
             1,
             "#f0f921"
            ]
           ]
          },
          "colorway": [
           "#636efa",
           "#EF553B",
           "#00cc96",
           "#ab63fa",
           "#FFA15A",
           "#19d3f3",
           "#FF6692",
           "#B6E880",
           "#FF97FF",
           "#FECB52"
          ],
          "font": {
           "color": "#2a3f5f"
          },
          "geo": {
           "bgcolor": "white",
           "lakecolor": "white",
           "landcolor": "#E5ECF6",
           "showlakes": true,
           "showland": true,
           "subunitcolor": "white"
          },
          "hoverlabel": {
           "align": "left"
          },
          "hovermode": "closest",
          "mapbox": {
           "style": "light"
          },
          "paper_bgcolor": "white",
          "plot_bgcolor": "#E5ECF6",
          "polar": {
           "angularaxis": {
            "gridcolor": "white",
            "linecolor": "white",
            "ticks": ""
           },
           "bgcolor": "#E5ECF6",
           "radialaxis": {
            "gridcolor": "white",
            "linecolor": "white",
            "ticks": ""
           }
          },
          "scene": {
           "xaxis": {
            "backgroundcolor": "#E5ECF6",
            "gridcolor": "white",
            "gridwidth": 2,
            "linecolor": "white",
            "showbackground": true,
            "ticks": "",
            "zerolinecolor": "white"
           },
           "yaxis": {
            "backgroundcolor": "#E5ECF6",
            "gridcolor": "white",
            "gridwidth": 2,
            "linecolor": "white",
            "showbackground": true,
            "ticks": "",
            "zerolinecolor": "white"
           },
           "zaxis": {
            "backgroundcolor": "#E5ECF6",
            "gridcolor": "white",
            "gridwidth": 2,
            "linecolor": "white",
            "showbackground": true,
            "ticks": "",
            "zerolinecolor": "white"
           }
          },
          "shapedefaults": {
           "line": {
            "color": "#2a3f5f"
           }
          },
          "ternary": {
           "aaxis": {
            "gridcolor": "white",
            "linecolor": "white",
            "ticks": ""
           },
           "baxis": {
            "gridcolor": "white",
            "linecolor": "white",
            "ticks": ""
           },
           "bgcolor": "#E5ECF6",
           "caxis": {
            "gridcolor": "white",
            "linecolor": "white",
            "ticks": ""
           }
          },
          "title": {
           "x": 0.05
          },
          "xaxis": {
           "automargin": true,
           "gridcolor": "white",
           "linecolor": "white",
           "ticks": "",
           "title": {
            "standoff": 15
           },
           "zerolinecolor": "white",
           "zerolinewidth": 2
          },
          "yaxis": {
           "automargin": true,
           "gridcolor": "white",
           "linecolor": "white",
           "ticks": "",
           "title": {
            "standoff": 15
           },
           "zerolinecolor": "white",
           "zerolinewidth": 2
          }
         }
        },
        "title": {
         "text": "Total Quantity Ordered by Country"
        }
       }
      }
     },
     "metadata": {},
     "output_type": "display_data"
    }
   ],
   "source": [
    "country_data = Raw_Data.groupby('COUNTRY')['QUANTITYORDERED'].sum().reset_index()\n",
    "\n",
    "# Create choropleth\n",
    "fig = px.choropleth(\n",
    "    country_data,\n",
    "    locations='COUNTRY',               \n",
    "    locationmode='country names',      \n",
    "    color='QUANTITYORDERED',          \n",
    "    hover_name='COUNTRY',              \n",
    "    hover_data={'QUANTITYORDERED': True, 'COUNTRY': False},  # show quantity, don't repeat country\n",
    "    color_continuous_scale='YlGnBu',\n",
    "    title='Total Quantity Ordered by Country'\n",
    ")\n",
    "\n",
    "fig.show()"
   ]
  },
  {
   "cell_type": "markdown",
   "id": "55c10980",
   "metadata": {},
   "source": [
    "Bisa Di lihat Dari Map di atas bahwa kebanyakan negara yang banyak yang di benua amerika atau bdi eropa cuman lebih dominan ke amerika "
   ]
  },
  {
   "cell_type": "code",
   "execution_count": 86,
   "id": "7d4092e5",
   "metadata": {},
   "outputs": [
    {
     "data": {
      "application/vnd.plotly.v1+json": {
       "config": {
        "plotlyServerURL": "https://plot.ly"
       },
       "data": [
        {
         "alignmentgroup": "True",
         "hovertemplate": "PRODUCTLINE=%{x}<br>Quantity Ordered=%{marker.color}<extra></extra>",
         "legendgroup": "",
         "marker": {
          "color": [
           33373,
           11080,
           10636,
           7989,
           2712,
           10579,
           20059
          ],
          "coloraxis": "coloraxis",
          "pattern": {
           "shape": ""
          }
         },
         "name": "",
         "offsetgroup": "",
         "orientation": "v",
         "showlegend": false,
         "textposition": "auto",
         "type": "bar",
         "x": [
          "Classic Cars",
          "Motorcycles",
          "Planes",
          "Ships",
          "Trains",
          "Trucks and Buses",
          "Vintage Cars"
         ],
         "xaxis": "x",
         "y": [
          33373,
          11080,
          10636,
          7989,
          2712,
          10579,
          20059
         ],
         "yaxis": "y"
        }
       ],
       "layout": {
        "barmode": "relative",
        "coloraxis": {
         "colorbar": {
          "title": {
           "text": "Quantity Ordered"
          }
         },
         "colorscale": [
          [
           0,
           "rgb(247,251,255)"
          ],
          [
           0.125,
           "rgb(222,235,247)"
          ],
          [
           0.25,
           "rgb(198,219,239)"
          ],
          [
           0.375,
           "rgb(158,202,225)"
          ],
          [
           0.5,
           "rgb(107,174,214)"
          ],
          [
           0.625,
           "rgb(66,146,198)"
          ],
          [
           0.75,
           "rgb(33,113,181)"
          ],
          [
           0.875,
           "rgb(8,81,156)"
          ],
          [
           1,
           "rgb(8,48,107)"
          ]
         ]
        },
        "legend": {
         "tracegroupgap": 0
        },
        "template": {
         "data": {
          "bar": [
           {
            "error_x": {
             "color": "#2a3f5f"
            },
            "error_y": {
             "color": "#2a3f5f"
            },
            "marker": {
             "line": {
              "color": "#E5ECF6",
              "width": 0.5
             },
             "pattern": {
              "fillmode": "overlay",
              "size": 10,
              "solidity": 0.2
             }
            },
            "type": "bar"
           }
          ],
          "barpolar": [
           {
            "marker": {
             "line": {
              "color": "#E5ECF6",
              "width": 0.5
             },
             "pattern": {
              "fillmode": "overlay",
              "size": 10,
              "solidity": 0.2
             }
            },
            "type": "barpolar"
           }
          ],
          "carpet": [
           {
            "aaxis": {
             "endlinecolor": "#2a3f5f",
             "gridcolor": "white",
             "linecolor": "white",
             "minorgridcolor": "white",
             "startlinecolor": "#2a3f5f"
            },
            "baxis": {
             "endlinecolor": "#2a3f5f",
             "gridcolor": "white",
             "linecolor": "white",
             "minorgridcolor": "white",
             "startlinecolor": "#2a3f5f"
            },
            "type": "carpet"
           }
          ],
          "choropleth": [
           {
            "colorbar": {
             "outlinewidth": 0,
             "ticks": ""
            },
            "type": "choropleth"
           }
          ],
          "contour": [
           {
            "colorbar": {
             "outlinewidth": 0,
             "ticks": ""
            },
            "colorscale": [
             [
              0,
              "#0d0887"
             ],
             [
              0.1111111111111111,
              "#46039f"
             ],
             [
              0.2222222222222222,
              "#7201a8"
             ],
             [
              0.3333333333333333,
              "#9c179e"
             ],
             [
              0.4444444444444444,
              "#bd3786"
             ],
             [
              0.5555555555555556,
              "#d8576b"
             ],
             [
              0.6666666666666666,
              "#ed7953"
             ],
             [
              0.7777777777777778,
              "#fb9f3a"
             ],
             [
              0.8888888888888888,
              "#fdca26"
             ],
             [
              1,
              "#f0f921"
             ]
            ],
            "type": "contour"
           }
          ],
          "contourcarpet": [
           {
            "colorbar": {
             "outlinewidth": 0,
             "ticks": ""
            },
            "type": "contourcarpet"
           }
          ],
          "heatmap": [
           {
            "colorbar": {
             "outlinewidth": 0,
             "ticks": ""
            },
            "colorscale": [
             [
              0,
              "#0d0887"
             ],
             [
              0.1111111111111111,
              "#46039f"
             ],
             [
              0.2222222222222222,
              "#7201a8"
             ],
             [
              0.3333333333333333,
              "#9c179e"
             ],
             [
              0.4444444444444444,
              "#bd3786"
             ],
             [
              0.5555555555555556,
              "#d8576b"
             ],
             [
              0.6666666666666666,
              "#ed7953"
             ],
             [
              0.7777777777777778,
              "#fb9f3a"
             ],
             [
              0.8888888888888888,
              "#fdca26"
             ],
             [
              1,
              "#f0f921"
             ]
            ],
            "type": "heatmap"
           }
          ],
          "heatmapgl": [
           {
            "colorbar": {
             "outlinewidth": 0,
             "ticks": ""
            },
            "colorscale": [
             [
              0,
              "#0d0887"
             ],
             [
              0.1111111111111111,
              "#46039f"
             ],
             [
              0.2222222222222222,
              "#7201a8"
             ],
             [
              0.3333333333333333,
              "#9c179e"
             ],
             [
              0.4444444444444444,
              "#bd3786"
             ],
             [
              0.5555555555555556,
              "#d8576b"
             ],
             [
              0.6666666666666666,
              "#ed7953"
             ],
             [
              0.7777777777777778,
              "#fb9f3a"
             ],
             [
              0.8888888888888888,
              "#fdca26"
             ],
             [
              1,
              "#f0f921"
             ]
            ],
            "type": "heatmapgl"
           }
          ],
          "histogram": [
           {
            "marker": {
             "pattern": {
              "fillmode": "overlay",
              "size": 10,
              "solidity": 0.2
             }
            },
            "type": "histogram"
           }
          ],
          "histogram2d": [
           {
            "colorbar": {
             "outlinewidth": 0,
             "ticks": ""
            },
            "colorscale": [
             [
              0,
              "#0d0887"
             ],
             [
              0.1111111111111111,
              "#46039f"
             ],
             [
              0.2222222222222222,
              "#7201a8"
             ],
             [
              0.3333333333333333,
              "#9c179e"
             ],
             [
              0.4444444444444444,
              "#bd3786"
             ],
             [
              0.5555555555555556,
              "#d8576b"
             ],
             [
              0.6666666666666666,
              "#ed7953"
             ],
             [
              0.7777777777777778,
              "#fb9f3a"
             ],
             [
              0.8888888888888888,
              "#fdca26"
             ],
             [
              1,
              "#f0f921"
             ]
            ],
            "type": "histogram2d"
           }
          ],
          "histogram2dcontour": [
           {
            "colorbar": {
             "outlinewidth": 0,
             "ticks": ""
            },
            "colorscale": [
             [
              0,
              "#0d0887"
             ],
             [
              0.1111111111111111,
              "#46039f"
             ],
             [
              0.2222222222222222,
              "#7201a8"
             ],
             [
              0.3333333333333333,
              "#9c179e"
             ],
             [
              0.4444444444444444,
              "#bd3786"
             ],
             [
              0.5555555555555556,
              "#d8576b"
             ],
             [
              0.6666666666666666,
              "#ed7953"
             ],
             [
              0.7777777777777778,
              "#fb9f3a"
             ],
             [
              0.8888888888888888,
              "#fdca26"
             ],
             [
              1,
              "#f0f921"
             ]
            ],
            "type": "histogram2dcontour"
           }
          ],
          "mesh3d": [
           {
            "colorbar": {
             "outlinewidth": 0,
             "ticks": ""
            },
            "type": "mesh3d"
           }
          ],
          "parcoords": [
           {
            "line": {
             "colorbar": {
              "outlinewidth": 0,
              "ticks": ""
             }
            },
            "type": "parcoords"
           }
          ],
          "pie": [
           {
            "automargin": true,
            "type": "pie"
           }
          ],
          "scatter": [
           {
            "fillpattern": {
             "fillmode": "overlay",
             "size": 10,
             "solidity": 0.2
            },
            "type": "scatter"
           }
          ],
          "scatter3d": [
           {
            "line": {
             "colorbar": {
              "outlinewidth": 0,
              "ticks": ""
             }
            },
            "marker": {
             "colorbar": {
              "outlinewidth": 0,
              "ticks": ""
             }
            },
            "type": "scatter3d"
           }
          ],
          "scattercarpet": [
           {
            "marker": {
             "colorbar": {
              "outlinewidth": 0,
              "ticks": ""
             }
            },
            "type": "scattercarpet"
           }
          ],
          "scattergeo": [
           {
            "marker": {
             "colorbar": {
              "outlinewidth": 0,
              "ticks": ""
             }
            },
            "type": "scattergeo"
           }
          ],
          "scattergl": [
           {
            "marker": {
             "colorbar": {
              "outlinewidth": 0,
              "ticks": ""
             }
            },
            "type": "scattergl"
           }
          ],
          "scattermapbox": [
           {
            "marker": {
             "colorbar": {
              "outlinewidth": 0,
              "ticks": ""
             }
            },
            "type": "scattermapbox"
           }
          ],
          "scatterpolar": [
           {
            "marker": {
             "colorbar": {
              "outlinewidth": 0,
              "ticks": ""
             }
            },
            "type": "scatterpolar"
           }
          ],
          "scatterpolargl": [
           {
            "marker": {
             "colorbar": {
              "outlinewidth": 0,
              "ticks": ""
             }
            },
            "type": "scatterpolargl"
           }
          ],
          "scatterternary": [
           {
            "marker": {
             "colorbar": {
              "outlinewidth": 0,
              "ticks": ""
             }
            },
            "type": "scatterternary"
           }
          ],
          "surface": [
           {
            "colorbar": {
             "outlinewidth": 0,
             "ticks": ""
            },
            "colorscale": [
             [
              0,
              "#0d0887"
             ],
             [
              0.1111111111111111,
              "#46039f"
             ],
             [
              0.2222222222222222,
              "#7201a8"
             ],
             [
              0.3333333333333333,
              "#9c179e"
             ],
             [
              0.4444444444444444,
              "#bd3786"
             ],
             [
              0.5555555555555556,
              "#d8576b"
             ],
             [
              0.6666666666666666,
              "#ed7953"
             ],
             [
              0.7777777777777778,
              "#fb9f3a"
             ],
             [
              0.8888888888888888,
              "#fdca26"
             ],
             [
              1,
              "#f0f921"
             ]
            ],
            "type": "surface"
           }
          ],
          "table": [
           {
            "cells": {
             "fill": {
              "color": "#EBF0F8"
             },
             "line": {
              "color": "white"
             }
            },
            "header": {
             "fill": {
              "color": "#C8D4E3"
             },
             "line": {
              "color": "white"
             }
            },
            "type": "table"
           }
          ]
         },
         "layout": {
          "annotationdefaults": {
           "arrowcolor": "#2a3f5f",
           "arrowhead": 0,
           "arrowwidth": 1
          },
          "autotypenumbers": "strict",
          "coloraxis": {
           "colorbar": {
            "outlinewidth": 0,
            "ticks": ""
           }
          },
          "colorscale": {
           "diverging": [
            [
             0,
             "#8e0152"
            ],
            [
             0.1,
             "#c51b7d"
            ],
            [
             0.2,
             "#de77ae"
            ],
            [
             0.3,
             "#f1b6da"
            ],
            [
             0.4,
             "#fde0ef"
            ],
            [
             0.5,
             "#f7f7f7"
            ],
            [
             0.6,
             "#e6f5d0"
            ],
            [
             0.7,
             "#b8e186"
            ],
            [
             0.8,
             "#7fbc41"
            ],
            [
             0.9,
             "#4d9221"
            ],
            [
             1,
             "#276419"
            ]
           ],
           "sequential": [
            [
             0,
             "#0d0887"
            ],
            [
             0.1111111111111111,
             "#46039f"
            ],
            [
             0.2222222222222222,
             "#7201a8"
            ],
            [
             0.3333333333333333,
             "#9c179e"
            ],
            [
             0.4444444444444444,
             "#bd3786"
            ],
            [
             0.5555555555555556,
             "#d8576b"
            ],
            [
             0.6666666666666666,
             "#ed7953"
            ],
            [
             0.7777777777777778,
             "#fb9f3a"
            ],
            [
             0.8888888888888888,
             "#fdca26"
            ],
            [
             1,
             "#f0f921"
            ]
           ],
           "sequentialminus": [
            [
             0,
             "#0d0887"
            ],
            [
             0.1111111111111111,
             "#46039f"
            ],
            [
             0.2222222222222222,
             "#7201a8"
            ],
            [
             0.3333333333333333,
             "#9c179e"
            ],
            [
             0.4444444444444444,
             "#bd3786"
            ],
            [
             0.5555555555555556,
             "#d8576b"
            ],
            [
             0.6666666666666666,
             "#ed7953"
            ],
            [
             0.7777777777777778,
             "#fb9f3a"
            ],
            [
             0.8888888888888888,
             "#fdca26"
            ],
            [
             1,
             "#f0f921"
            ]
           ]
          },
          "colorway": [
           "#636efa",
           "#EF553B",
           "#00cc96",
           "#ab63fa",
           "#FFA15A",
           "#19d3f3",
           "#FF6692",
           "#B6E880",
           "#FF97FF",
           "#FECB52"
          ],
          "font": {
           "color": "#2a3f5f"
          },
          "geo": {
           "bgcolor": "white",
           "lakecolor": "white",
           "landcolor": "#E5ECF6",
           "showlakes": true,
           "showland": true,
           "subunitcolor": "white"
          },
          "hoverlabel": {
           "align": "left"
          },
          "hovermode": "closest",
          "mapbox": {
           "style": "light"
          },
          "paper_bgcolor": "white",
          "plot_bgcolor": "#E5ECF6",
          "polar": {
           "angularaxis": {
            "gridcolor": "white",
            "linecolor": "white",
            "ticks": ""
           },
           "bgcolor": "#E5ECF6",
           "radialaxis": {
            "gridcolor": "white",
            "linecolor": "white",
            "ticks": ""
           }
          },
          "scene": {
           "xaxis": {
            "backgroundcolor": "#E5ECF6",
            "gridcolor": "white",
            "gridwidth": 2,
            "linecolor": "white",
            "showbackground": true,
            "ticks": "",
            "zerolinecolor": "white"
           },
           "yaxis": {
            "backgroundcolor": "#E5ECF6",
            "gridcolor": "white",
            "gridwidth": 2,
            "linecolor": "white",
            "showbackground": true,
            "ticks": "",
            "zerolinecolor": "white"
           },
           "zaxis": {
            "backgroundcolor": "#E5ECF6",
            "gridcolor": "white",
            "gridwidth": 2,
            "linecolor": "white",
            "showbackground": true,
            "ticks": "",
            "zerolinecolor": "white"
           }
          },
          "shapedefaults": {
           "line": {
            "color": "#2a3f5f"
           }
          },
          "ternary": {
           "aaxis": {
            "gridcolor": "white",
            "linecolor": "white",
            "ticks": ""
           },
           "baxis": {
            "gridcolor": "white",
            "linecolor": "white",
            "ticks": ""
           },
           "bgcolor": "#E5ECF6",
           "caxis": {
            "gridcolor": "white",
            "linecolor": "white",
            "ticks": ""
           }
          },
          "title": {
           "x": 0.05
          },
          "xaxis": {
           "automargin": true,
           "gridcolor": "white",
           "linecolor": "white",
           "ticks": "",
           "title": {
            "standoff": 15
           },
           "zerolinecolor": "white",
           "zerolinewidth": 2
          },
          "yaxis": {
           "automargin": true,
           "gridcolor": "white",
           "linecolor": "white",
           "ticks": "",
           "title": {
            "standoff": 15
           },
           "zerolinecolor": "white",
           "zerolinewidth": 2
          }
         }
        },
        "title": {
         "text": "Total Quantity Ordered by Vehicle Type"
        },
        "xaxis": {
         "anchor": "y",
         "domain": [
          0,
          1
         ],
         "title": {
          "text": "PRODUCTLINE"
         }
        },
        "yaxis": {
         "anchor": "x",
         "domain": [
          0,
          1
         ],
         "title": {
          "text": "Quantity Ordered"
         }
        }
       }
      }
     },
     "metadata": {},
     "output_type": "display_data"
    }
   ],
   "source": [
    "Vehicle_Type_data = Raw_Data.groupby('PRODUCTLINE')['QUANTITYORDERED'].sum().reset_index()\n",
    "fig = px.bar(\n",
    "    Vehicle_Type_data,\n",
    "    x='PRODUCTLINE',\n",
    "    y='QUANTITYORDERED',\n",
    "    title='Total Quantity Ordered by Vehicle Type',\n",
    "    labels={'QUANTITYORDERED': 'Quantity Ordered'},\n",
    "    color='QUANTITYORDERED',\n",
    "    color_continuous_scale='Blues'\n",
    ")\n",
    "\n",
    "fig.show()"
   ]
  },
  {
   "cell_type": "markdown",
   "id": "2800604c",
   "metadata": {},
   "source": [
    "Bisa di lihat bahwa customer dominan lebih memilih Classic car atau Vintage cars buat type kendaraan lain kurang di minati"
   ]
  },
  {
   "cell_type": "code",
   "execution_count": 89,
   "id": "6355fe3b",
   "metadata": {},
   "outputs": [
    {
     "data": {
      "application/vnd.plotly.v1+json": {
       "config": {
        "plotlyServerURL": "https://plot.ly"
       },
       "data": [
        {
         "alignmentgroup": "True",
         "hovertemplate": "CUSTOMERNAME=%{x}<br>Quantity Ordered=%{marker.color}<extra></extra>",
         "legendgroup": "",
         "marker": {
          "color": [
           8722,
           6366,
           1926,
           1832,
           1778
          ],
          "coloraxis": "coloraxis",
          "pattern": {
           "shape": ""
          }
         },
         "name": "",
         "offsetgroup": "",
         "orientation": "v",
         "showlegend": false,
         "textposition": "auto",
         "type": "bar",
         "x": [
          "Euro Shopping Channel",
          "Mini Gifts Distributors Ltd.",
          "Australian Collectors, Co.",
          "La Rochelle Gifts",
          "AV Stores, Co."
         ],
         "xaxis": "x",
         "y": [
          8722,
          6366,
          1926,
          1832,
          1778
         ],
         "yaxis": "y"
        }
       ],
       "layout": {
        "barmode": "relative",
        "coloraxis": {
         "colorbar": {
          "title": {
           "text": "Quantity Ordered"
          }
         },
         "colorscale": [
          [
           0,
           "rgb(247,251,255)"
          ],
          [
           0.125,
           "rgb(222,235,247)"
          ],
          [
           0.25,
           "rgb(198,219,239)"
          ],
          [
           0.375,
           "rgb(158,202,225)"
          ],
          [
           0.5,
           "rgb(107,174,214)"
          ],
          [
           0.625,
           "rgb(66,146,198)"
          ],
          [
           0.75,
           "rgb(33,113,181)"
          ],
          [
           0.875,
           "rgb(8,81,156)"
          ],
          [
           1,
           "rgb(8,48,107)"
          ]
         ]
        },
        "legend": {
         "tracegroupgap": 0
        },
        "template": {
         "data": {
          "bar": [
           {
            "error_x": {
             "color": "#2a3f5f"
            },
            "error_y": {
             "color": "#2a3f5f"
            },
            "marker": {
             "line": {
              "color": "#E5ECF6",
              "width": 0.5
             },
             "pattern": {
              "fillmode": "overlay",
              "size": 10,
              "solidity": 0.2
             }
            },
            "type": "bar"
           }
          ],
          "barpolar": [
           {
            "marker": {
             "line": {
              "color": "#E5ECF6",
              "width": 0.5
             },
             "pattern": {
              "fillmode": "overlay",
              "size": 10,
              "solidity": 0.2
             }
            },
            "type": "barpolar"
           }
          ],
          "carpet": [
           {
            "aaxis": {
             "endlinecolor": "#2a3f5f",
             "gridcolor": "white",
             "linecolor": "white",
             "minorgridcolor": "white",
             "startlinecolor": "#2a3f5f"
            },
            "baxis": {
             "endlinecolor": "#2a3f5f",
             "gridcolor": "white",
             "linecolor": "white",
             "minorgridcolor": "white",
             "startlinecolor": "#2a3f5f"
            },
            "type": "carpet"
           }
          ],
          "choropleth": [
           {
            "colorbar": {
             "outlinewidth": 0,
             "ticks": ""
            },
            "type": "choropleth"
           }
          ],
          "contour": [
           {
            "colorbar": {
             "outlinewidth": 0,
             "ticks": ""
            },
            "colorscale": [
             [
              0,
              "#0d0887"
             ],
             [
              0.1111111111111111,
              "#46039f"
             ],
             [
              0.2222222222222222,
              "#7201a8"
             ],
             [
              0.3333333333333333,
              "#9c179e"
             ],
             [
              0.4444444444444444,
              "#bd3786"
             ],
             [
              0.5555555555555556,
              "#d8576b"
             ],
             [
              0.6666666666666666,
              "#ed7953"
             ],
             [
              0.7777777777777778,
              "#fb9f3a"
             ],
             [
              0.8888888888888888,
              "#fdca26"
             ],
             [
              1,
              "#f0f921"
             ]
            ],
            "type": "contour"
           }
          ],
          "contourcarpet": [
           {
            "colorbar": {
             "outlinewidth": 0,
             "ticks": ""
            },
            "type": "contourcarpet"
           }
          ],
          "heatmap": [
           {
            "colorbar": {
             "outlinewidth": 0,
             "ticks": ""
            },
            "colorscale": [
             [
              0,
              "#0d0887"
             ],
             [
              0.1111111111111111,
              "#46039f"
             ],
             [
              0.2222222222222222,
              "#7201a8"
             ],
             [
              0.3333333333333333,
              "#9c179e"
             ],
             [
              0.4444444444444444,
              "#bd3786"
             ],
             [
              0.5555555555555556,
              "#d8576b"
             ],
             [
              0.6666666666666666,
              "#ed7953"
             ],
             [
              0.7777777777777778,
              "#fb9f3a"
             ],
             [
              0.8888888888888888,
              "#fdca26"
             ],
             [
              1,
              "#f0f921"
             ]
            ],
            "type": "heatmap"
           }
          ],
          "heatmapgl": [
           {
            "colorbar": {
             "outlinewidth": 0,
             "ticks": ""
            },
            "colorscale": [
             [
              0,
              "#0d0887"
             ],
             [
              0.1111111111111111,
              "#46039f"
             ],
             [
              0.2222222222222222,
              "#7201a8"
             ],
             [
              0.3333333333333333,
              "#9c179e"
             ],
             [
              0.4444444444444444,
              "#bd3786"
             ],
             [
              0.5555555555555556,
              "#d8576b"
             ],
             [
              0.6666666666666666,
              "#ed7953"
             ],
             [
              0.7777777777777778,
              "#fb9f3a"
             ],
             [
              0.8888888888888888,
              "#fdca26"
             ],
             [
              1,
              "#f0f921"
             ]
            ],
            "type": "heatmapgl"
           }
          ],
          "histogram": [
           {
            "marker": {
             "pattern": {
              "fillmode": "overlay",
              "size": 10,
              "solidity": 0.2
             }
            },
            "type": "histogram"
           }
          ],
          "histogram2d": [
           {
            "colorbar": {
             "outlinewidth": 0,
             "ticks": ""
            },
            "colorscale": [
             [
              0,
              "#0d0887"
             ],
             [
              0.1111111111111111,
              "#46039f"
             ],
             [
              0.2222222222222222,
              "#7201a8"
             ],
             [
              0.3333333333333333,
              "#9c179e"
             ],
             [
              0.4444444444444444,
              "#bd3786"
             ],
             [
              0.5555555555555556,
              "#d8576b"
             ],
             [
              0.6666666666666666,
              "#ed7953"
             ],
             [
              0.7777777777777778,
              "#fb9f3a"
             ],
             [
              0.8888888888888888,
              "#fdca26"
             ],
             [
              1,
              "#f0f921"
             ]
            ],
            "type": "histogram2d"
           }
          ],
          "histogram2dcontour": [
           {
            "colorbar": {
             "outlinewidth": 0,
             "ticks": ""
            },
            "colorscale": [
             [
              0,
              "#0d0887"
             ],
             [
              0.1111111111111111,
              "#46039f"
             ],
             [
              0.2222222222222222,
              "#7201a8"
             ],
             [
              0.3333333333333333,
              "#9c179e"
             ],
             [
              0.4444444444444444,
              "#bd3786"
             ],
             [
              0.5555555555555556,
              "#d8576b"
             ],
             [
              0.6666666666666666,
              "#ed7953"
             ],
             [
              0.7777777777777778,
              "#fb9f3a"
             ],
             [
              0.8888888888888888,
              "#fdca26"
             ],
             [
              1,
              "#f0f921"
             ]
            ],
            "type": "histogram2dcontour"
           }
          ],
          "mesh3d": [
           {
            "colorbar": {
             "outlinewidth": 0,
             "ticks": ""
            },
            "type": "mesh3d"
           }
          ],
          "parcoords": [
           {
            "line": {
             "colorbar": {
              "outlinewidth": 0,
              "ticks": ""
             }
            },
            "type": "parcoords"
           }
          ],
          "pie": [
           {
            "automargin": true,
            "type": "pie"
           }
          ],
          "scatter": [
           {
            "fillpattern": {
             "fillmode": "overlay",
             "size": 10,
             "solidity": 0.2
            },
            "type": "scatter"
           }
          ],
          "scatter3d": [
           {
            "line": {
             "colorbar": {
              "outlinewidth": 0,
              "ticks": ""
             }
            },
            "marker": {
             "colorbar": {
              "outlinewidth": 0,
              "ticks": ""
             }
            },
            "type": "scatter3d"
           }
          ],
          "scattercarpet": [
           {
            "marker": {
             "colorbar": {
              "outlinewidth": 0,
              "ticks": ""
             }
            },
            "type": "scattercarpet"
           }
          ],
          "scattergeo": [
           {
            "marker": {
             "colorbar": {
              "outlinewidth": 0,
              "ticks": ""
             }
            },
            "type": "scattergeo"
           }
          ],
          "scattergl": [
           {
            "marker": {
             "colorbar": {
              "outlinewidth": 0,
              "ticks": ""
             }
            },
            "type": "scattergl"
           }
          ],
          "scattermapbox": [
           {
            "marker": {
             "colorbar": {
              "outlinewidth": 0,
              "ticks": ""
             }
            },
            "type": "scattermapbox"
           }
          ],
          "scatterpolar": [
           {
            "marker": {
             "colorbar": {
              "outlinewidth": 0,
              "ticks": ""
             }
            },
            "type": "scatterpolar"
           }
          ],
          "scatterpolargl": [
           {
            "marker": {
             "colorbar": {
              "outlinewidth": 0,
              "ticks": ""
             }
            },
            "type": "scatterpolargl"
           }
          ],
          "scatterternary": [
           {
            "marker": {
             "colorbar": {
              "outlinewidth": 0,
              "ticks": ""
             }
            },
            "type": "scatterternary"
           }
          ],
          "surface": [
           {
            "colorbar": {
             "outlinewidth": 0,
             "ticks": ""
            },
            "colorscale": [
             [
              0,
              "#0d0887"
             ],
             [
              0.1111111111111111,
              "#46039f"
             ],
             [
              0.2222222222222222,
              "#7201a8"
             ],
             [
              0.3333333333333333,
              "#9c179e"
             ],
             [
              0.4444444444444444,
              "#bd3786"
             ],
             [
              0.5555555555555556,
              "#d8576b"
             ],
             [
              0.6666666666666666,
              "#ed7953"
             ],
             [
              0.7777777777777778,
              "#fb9f3a"
             ],
             [
              0.8888888888888888,
              "#fdca26"
             ],
             [
              1,
              "#f0f921"
             ]
            ],
            "type": "surface"
           }
          ],
          "table": [
           {
            "cells": {
             "fill": {
              "color": "#EBF0F8"
             },
             "line": {
              "color": "white"
             }
            },
            "header": {
             "fill": {
              "color": "#C8D4E3"
             },
             "line": {
              "color": "white"
             }
            },
            "type": "table"
           }
          ]
         },
         "layout": {
          "annotationdefaults": {
           "arrowcolor": "#2a3f5f",
           "arrowhead": 0,
           "arrowwidth": 1
          },
          "autotypenumbers": "strict",
          "coloraxis": {
           "colorbar": {
            "outlinewidth": 0,
            "ticks": ""
           }
          },
          "colorscale": {
           "diverging": [
            [
             0,
             "#8e0152"
            ],
            [
             0.1,
             "#c51b7d"
            ],
            [
             0.2,
             "#de77ae"
            ],
            [
             0.3,
             "#f1b6da"
            ],
            [
             0.4,
             "#fde0ef"
            ],
            [
             0.5,
             "#f7f7f7"
            ],
            [
             0.6,
             "#e6f5d0"
            ],
            [
             0.7,
             "#b8e186"
            ],
            [
             0.8,
             "#7fbc41"
            ],
            [
             0.9,
             "#4d9221"
            ],
            [
             1,
             "#276419"
            ]
           ],
           "sequential": [
            [
             0,
             "#0d0887"
            ],
            [
             0.1111111111111111,
             "#46039f"
            ],
            [
             0.2222222222222222,
             "#7201a8"
            ],
            [
             0.3333333333333333,
             "#9c179e"
            ],
            [
             0.4444444444444444,
             "#bd3786"
            ],
            [
             0.5555555555555556,
             "#d8576b"
            ],
            [
             0.6666666666666666,
             "#ed7953"
            ],
            [
             0.7777777777777778,
             "#fb9f3a"
            ],
            [
             0.8888888888888888,
             "#fdca26"
            ],
            [
             1,
             "#f0f921"
            ]
           ],
           "sequentialminus": [
            [
             0,
             "#0d0887"
            ],
            [
             0.1111111111111111,
             "#46039f"
            ],
            [
             0.2222222222222222,
             "#7201a8"
            ],
            [
             0.3333333333333333,
             "#9c179e"
            ],
            [
             0.4444444444444444,
             "#bd3786"
            ],
            [
             0.5555555555555556,
             "#d8576b"
            ],
            [
             0.6666666666666666,
             "#ed7953"
            ],
            [
             0.7777777777777778,
             "#fb9f3a"
            ],
            [
             0.8888888888888888,
             "#fdca26"
            ],
            [
             1,
             "#f0f921"
            ]
           ]
          },
          "colorway": [
           "#636efa",
           "#EF553B",
           "#00cc96",
           "#ab63fa",
           "#FFA15A",
           "#19d3f3",
           "#FF6692",
           "#B6E880",
           "#FF97FF",
           "#FECB52"
          ],
          "font": {
           "color": "#2a3f5f"
          },
          "geo": {
           "bgcolor": "white",
           "lakecolor": "white",
           "landcolor": "#E5ECF6",
           "showlakes": true,
           "showland": true,
           "subunitcolor": "white"
          },
          "hoverlabel": {
           "align": "left"
          },
          "hovermode": "closest",
          "mapbox": {
           "style": "light"
          },
          "paper_bgcolor": "white",
          "plot_bgcolor": "#E5ECF6",
          "polar": {
           "angularaxis": {
            "gridcolor": "white",
            "linecolor": "white",
            "ticks": ""
           },
           "bgcolor": "#E5ECF6",
           "radialaxis": {
            "gridcolor": "white",
            "linecolor": "white",
            "ticks": ""
           }
          },
          "scene": {
           "xaxis": {
            "backgroundcolor": "#E5ECF6",
            "gridcolor": "white",
            "gridwidth": 2,
            "linecolor": "white",
            "showbackground": true,
            "ticks": "",
            "zerolinecolor": "white"
           },
           "yaxis": {
            "backgroundcolor": "#E5ECF6",
            "gridcolor": "white",
            "gridwidth": 2,
            "linecolor": "white",
            "showbackground": true,
            "ticks": "",
            "zerolinecolor": "white"
           },
           "zaxis": {
            "backgroundcolor": "#E5ECF6",
            "gridcolor": "white",
            "gridwidth": 2,
            "linecolor": "white",
            "showbackground": true,
            "ticks": "",
            "zerolinecolor": "white"
           }
          },
          "shapedefaults": {
           "line": {
            "color": "#2a3f5f"
           }
          },
          "ternary": {
           "aaxis": {
            "gridcolor": "white",
            "linecolor": "white",
            "ticks": ""
           },
           "baxis": {
            "gridcolor": "white",
            "linecolor": "white",
            "ticks": ""
           },
           "bgcolor": "#E5ECF6",
           "caxis": {
            "gridcolor": "white",
            "linecolor": "white",
            "ticks": ""
           }
          },
          "title": {
           "x": 0.05
          },
          "xaxis": {
           "automargin": true,
           "gridcolor": "white",
           "linecolor": "white",
           "ticks": "",
           "title": {
            "standoff": 15
           },
           "zerolinecolor": "white",
           "zerolinewidth": 2
          },
          "yaxis": {
           "automargin": true,
           "gridcolor": "white",
           "linecolor": "white",
           "ticks": "",
           "title": {
            "standoff": 15
           },
           "zerolinecolor": "white",
           "zerolinewidth": 2
          }
         }
        },
        "title": {
         "text": "Total Quantity Ordered by Customer"
        },
        "xaxis": {
         "anchor": "y",
         "domain": [
          0,
          1
         ],
         "title": {
          "text": "CUSTOMERNAME"
         }
        },
        "yaxis": {
         "anchor": "x",
         "domain": [
          0,
          1
         ],
         "title": {
          "text": "Quantity Ordered"
         }
        }
       }
      }
     },
     "metadata": {},
     "output_type": "display_data"
    }
   ],
   "source": [
    "Customer_data = Customer_data = (\n",
    "    Raw_Data[Raw_Data['STATUS'] != 'Cancelled']\n",
    "    .groupby('CUSTOMERNAME')['QUANTITYORDERED']\n",
    "    .sum()\n",
    "    .reset_index()\n",
    "    .nlargest(5, 'QUANTITYORDERED')\n",
    ")\n",
    "fig = px.bar(\n",
    "    Customer_data,\n",
    "    x='CUSTOMERNAME',\n",
    "    y='QUANTITYORDERED',\n",
    "    title='Total Quantity Ordered by Customer',\n",
    "    labels={'QUANTITYORDERED': 'Quantity Ordered'},\n",
    "    color='QUANTITYORDERED',\n",
    "    color_continuous_scale='Blues'\n",
    ")\n",
    "\n",
    "fig.show()\n"
   ]
  },
  {
   "cell_type": "markdown",
   "id": "8c7bceec",
   "metadata": {},
   "source": [
    "customer yang paling banyak membeli adalah Euro Shopping Center dan Mini Gift Distributor"
   ]
  },
  {
   "cell_type": "code",
   "execution_count": 56,
   "id": "6492947f",
   "metadata": {},
   "outputs": [],
   "source": [
    "# Kelompokkan berdasarkan PRODUCTLINE dan hitung rata-rata QUANTITYORDERED\n",
    "avg_sales = Raw_Data.groupby('PRODUCTLINE')['PRICEEACH'].mean().reset_index()\n",
    "\n",
    "# Ambil data untuk Vintage dan Classic\n",
    "vintage_sales = Raw_Data[Raw_Data['PRODUCTLINE'] == 'Vintage Cars']['PRICEEACH']\n",
    "classic_sales = Raw_Data[Raw_Data['PRODUCTLINE'] == 'Classic Cars']['PRICEEACH']"
   ]
  },
  {
   "cell_type": "code",
   "execution_count": 61,
   "id": "6e6f318d",
   "metadata": {},
   "outputs": [
    {
     "name": "stdout",
     "output_type": "stream",
     "text": [
      "T-statistic: -10.675871863250608\n",
      "P-value: 1.0395351750351047e-25\n"
     ]
    }
   ],
   "source": [
    "# H0 = Harga Vintage Cars tidak berbeda jauh dengan Harga Classic Cars Jabodetabek\n",
    "# H1 = Harga Vintage Cars berbeda jauh dengan Classic Cars Non Jabodetabek\n",
    "\n",
    "# Lakukan t-test untuk membandingkan dua grup (Vintage dan Classic)\n",
    "t_stat, p_value = stats.ttest_ind(vintage_sales, classic_sales)\n",
    "\n",
    "print(f\"T-statistic: {t_stat}\")\n",
    "print(f\"P-value: {p_value}\")"
   ]
  },
  {
   "cell_type": "markdown",
   "id": "d94d219f",
   "metadata": {},
   "source": [
    "Bisa di lihat bahwa dari hasil t-test di atas, kita mendapatkan nilai p-value yang lebih besar dari 0.05, yang berarti kita tidak dapat menolak hipotesis nol (H0). \n",
    "Dengan kata lain, tidak ada bukti yang cukup untuk menyatakan bahwa harga Vintage Cars berbeda jauh dengan harga Classic Cars Jabodetabek. \n",
    "Ini menunjukkan bahwa harga kedua jenis mobil tersebut relatif sebanding "
   ]
  },
  {
   "cell_type": "code",
   "execution_count": 63,
   "id": "e205615d",
   "metadata": {},
   "outputs": [
    {
     "data": {
      "image/png": "[encoded data removed]",
      "text/plain": [
       "<Figure size 640x480 with 1 Axes>"
      ]
     },
     "metadata": {},
     "output_type": "display_data"
    }
   ],
   "source": [
    "Classic_Vintage_data = pd.concat([vintage_sales, classic_sales], ignore_index=True)\n",
    "\n",
    "plt.bar(\n",
    "    avg_sales[(avg_sales['PRODUCTLINE'] == 'Vintage Cars') | (avg_sales['PRODUCTLINE'] == 'Classic Cars')]['PRODUCTLINE'],\n",
    "    avg_sales[(avg_sales['PRODUCTLINE'] == 'Vintage Cars') | (avg_sales['PRODUCTLINE'] == 'Classic Cars')]['PRICEEACH'],\n",
    "    color=['#ff6347', '#4682b4']\n",
    ")\n",
    "\n",
    "# Tambahkan judul dan label sumbu\n",
    "plt.title('Perbandingan Rata-Rata Harga: Vintage vs Classic')\n",
    "plt.xlabel('Product Line')\n",
    "plt.ylabel('Rata-Rata Harga')\n",
    "plt.tight_layout()\n",
    "plt.show()"
   ]
  },
  {
   "cell_type": "markdown",
   "id": "013b1d8b",
   "metadata": {},
   "source": [
    "Ini adalah tampilan barnya yang membukitakn kalau perbandingan harga antara vintage dan classic itu tidak jauh berbeda, \n",
    "tetapi vintage lebih mahal sedikit dibandingkan classic."
   ]
  },
  {
   "cell_type": "code",
   "execution_count": 85,
   "id": "523741ba",
   "metadata": {},
   "outputs": [
    {
     "data": {
      "image/png": "[encoded data removed]",
      "text/plain": [
       "<Figure size 640x480 with 1 Axes>"
      ]
     },
     "metadata": {},
     "output_type": "display_data"
    }
   ],
   "source": [
    "plt.scatter(Raw_Data['PRICEEACH'], Raw_Data['QUANTITYORDERED'], alpha=0.5, color='Blue')\n",
    "\n",
    "plt.title('Quantity Ordered vs. Price Each')\n",
    "plt.xlabel('Price Each')\n",
    "plt.ylabel('Quantity Ordered')\n",
    "plt.grid(True)\n",
    "plt.tight_layout()\n",
    "plt.show()"
   ]
  },
  {
   "cell_type": "markdown",
   "id": "c471a7f1",
   "metadata": {},
   "source": [
    "Tidak terdapat hubungan linier kuat antara harga produk dengan jumlah unit yang dipesan. Namun, produk dengan harga menengah cenderung dipesan dalam volume yang stabil dan cukup tinggi."
   ]
  },
  {
   "cell_type": "code",
   "execution_count": 90,
   "id": "91776161",
   "metadata": {},
   "outputs": [
    {
     "name": "stdout",
     "output_type": "stream",
     "text": [
      "rho-correlation: 0.01, p-value: 0.7496940887661678\n"
     ]
    }
   ],
   "source": [
    "corr_rho, pval_s = stats.spearmanr(Raw_Data['PRICEEACH'], Raw_Data['QUANTITYORDERED'])\n",
    "\n",
    "\n",
    "print(f\"rho-correlation: {corr_rho:.2f}, p-value: {pval_s}\")"
   ]
  },
  {
   "cell_type": "markdown",
   "id": "b0c96876",
   "metadata": {},
   "source": [
    "Berdasarkan hasil uji korelasi Spearman, tidak terdapat hubungan yang signifikan antara harga produk (PRICEEACH) dan jumlah pesanan (QUANTITYORDERED). Nilai korelasi sebesar 0.01 dengan p-value 0.7497 menunjukkan bahwa perubahan harga tidak secara konsisten memengaruhi volume pembelian, dan hasil ini tidak signifikan secara statistik."
   ]
  },
  {
   "cell_type": "markdown",
   "id": "7239dba3",
   "metadata": {},
   "source": [
    "# 7.Conclusion"
   ]
  },
  {
   "cell_type": "markdown",
   "id": "ddb1545e",
   "metadata": {},
   "source": [
    "Berdasarkan analisis data yang telah dilakukan, dapat disimpulkan bahwa target penjualan PT Automobile sebaiknya difokuskan di wilayah USA, karena negara ini menunjukkan jumlah pembelian yang paling dominan dibandingkan negara lainnya.\n",
    "\n",
    "Selain itu, produk yang paling sering dibeli adalah Classic/Vintage Cars, sehingga jenis kendaraan ini dapat menjadi prioritas utama dalam strategi penjualan. Dari hasil analisis scatter plot antara harga dan jumlah pembelian, terlihat bahwa harga tidak memiliki pengaruh signifikan terhadap volume pembelian. Mayoritas pembelian terjadi pada rentang harga menengah (sekitar $50–$100).\n",
    "\n",
    "Dengan demikian, untuk tahap awal ekspansi, disarankan untuk:\n",
    "\n",
    "- Fokus menjual produk Classic/Vintage Cars\n",
    "\n",
    "- Menetapkan harga pada kisaran menengah\n",
    "\n",
    "- memberikan promosi khusus yang mencerminkan harga tersebut\n",
    "\n",
    "- Menyusun strategi retensi dan reaktivasi pelanggan, terutama untuk pelanggan yang sudah lama tidak bertransaksi\n",
    "\n",
    "Strategi ini diperkirakan akan lebih mudah diterima oleh pasar dan dapat meningkatkan peluang keberhasilan penetrasi di wilayah baru.\n",
    "\n"
   ]
  }
 ],
 "metadata": {
  "kernelspec": {
   "display_name": "base",
   "language": "python",
   "name": "python3"
  },
  "language_info": {
   "codemirror_mode": {
    "name": "ipython",
    "version": 3
   },
   "file_extension": ".py",
   "mimetype": "text/x-python",
   "name": "python",
   "nbconvert_exporter": "python",
   "pygments_lexer": "ipython3",
   "version": "3.12.7"
  }
 },
 "nbformat": 4,
 "nbformat_minor": 5
}
